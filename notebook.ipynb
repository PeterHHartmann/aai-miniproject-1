{
 "cells": [
  {
   "cell_type": "code",
   "execution_count": 2,
   "id": "7fc2e001-f428-40e2-a330-2368d0cfdcdb",
   "metadata": {},
   "outputs": [
    {
     "ename": "ModuleNotFoundError",
     "evalue": "No module named 'numpy'",
     "output_type": "error",
     "traceback": [
      "\u001b[1;31m---------------------------------------------------------------------------\u001b[0m",
      "\u001b[1;31mModuleNotFoundError\u001b[0m                       Traceback (most recent call last)",
      "\u001b[1;32mc:\\Users\\kozak\\Documents\\KEAweb\\aai\\aai-miniproject-1\\notebook.ipynb Cell 1\u001b[0m in \u001b[0;36m<cell line: 1>\u001b[1;34m()\u001b[0m\n\u001b[1;32m----> <a href='vscode-notebook-cell:/c%3A/Users/kozak/Documents/KEAweb/aai/aai-miniproject-1/notebook.ipynb#X13sZmlsZQ%3D%3D?line=0'>1</a>\u001b[0m \u001b[39mimport\u001b[39;00m \u001b[39mnumpy\u001b[39;00m \u001b[39mas\u001b[39;00m \u001b[39mnp\u001b[39;00m\n\u001b[0;32m      <a href='vscode-notebook-cell:/c%3A/Users/kozak/Documents/KEAweb/aai/aai-miniproject-1/notebook.ipynb#X13sZmlsZQ%3D%3D?line=1'>2</a>\u001b[0m \u001b[39mimport\u001b[39;00m \u001b[39mpandas\u001b[39;00m \u001b[39mas\u001b[39;00m \u001b[39mpd\u001b[39;00m\n\u001b[0;32m      <a href='vscode-notebook-cell:/c%3A/Users/kozak/Documents/KEAweb/aai/aai-miniproject-1/notebook.ipynb#X13sZmlsZQ%3D%3D?line=2'>3</a>\u001b[0m \u001b[39mfrom\u001b[39;00m \u001b[39mscipy\u001b[39;00m \u001b[39mimport\u001b[39;00m stats\n",
      "\u001b[1;31mModuleNotFoundError\u001b[0m: No module named 'numpy'"
     ]
    }
   ],
   "source": [
    "import numpy as np\n",
    "import pandas as pd\n",
    "from scipy import stats\n",
    "%matplotlib inline\n",
    "import matplotlib\n",
    "import matplotlib.pyplot as plt"
   ]
  },
  {
   "cell_type": "code",
   "execution_count": null,
   "id": "389dbd38-b479-42d4-8047-b491ee041e0a",
   "metadata": {},
   "outputs": [],
   "source": [
    "df = pd.read_csv('data/distribution-of-population-poverty-thresholds.csv')\n",
    "df"
   ]
  },
  {
   "cell_type": "code",
   "execution_count": null,
   "id": "247a20ff-49f0-48d5-8f9d-3a95cfd3b2f6",
   "metadata": {},
   "outputs": [],
   "source": [
    "df_india = df.loc[df['Entity'] == 'India']\n",
    "df_india"
   ]
  },
  {
   "cell_type": "code",
   "execution_count": null,
   "id": "fff4dcb1-6729-4e4d-8b5b-d5cf12a47d52",
   "metadata": {},
   "outputs": [],
   "source": [
    "df_china = df.loc[df['Entity'] == 'China']\n",
    "df_china"
   ]
  },
  {
   "cell_type": "code",
   "execution_count": null,
   "id": "06340c23-7e98-4ccb-b95d-54139d7bb6ef",
   "metadata": {},
   "outputs": [],
   "source": [
    "df_india.columns = ['Entity', 'Code', 'Year', 'above \\$10 a day','\\$5.50-\\$10 a day', '\\$3.20-\\$5.50 a day', '\\$1.90-\\$3.20 a day', '\\$1.90 a day']\n",
    "df_india"
   ]
  },
  {
   "cell_type": "code",
   "execution_count": null,
   "id": "a313c547-c294-4304-93b9-5655b842b1cb",
   "metadata": {},
   "outputs": [],
   "source": [
    "df_china.columns = ['Entity', 'Code', 'Year', 'above \\$10 a day','\\$5.50-\\$10 a day', '\\$3.20-\\$5.50 a day', '\\$1.90-\\$3.20 a day', '\\$1.90 a day']\n",
    "df_china"
   ]
  },
  {
   "cell_type": "code",
   "execution_count": null,
   "id": "bab02d40",
   "metadata": {},
   "outputs": [],
   "source": [
    "df_china['total'] = df_china.iloc[:,2:].sum(axis=1)\n",
    "df_india['total'] = df_india.iloc[:,2:].sum(axis=1)"
   ]
  },
  {
   "cell_type": "code",
   "execution_count": null,
   "id": "38728cd5-a94b-4604-bc4d-30a355d497fd",
   "metadata": {},
   "outputs": [],
   "source": [
    "plt.plot([], [], color='r', label=df_india.columns[7])\n",
    "plt.plot([], [], color='b', label=df_india.columns[6])\n",
    "plt.plot([], [], color='y', label=df_india.columns[5])\n",
    "plt.plot([], [], color='k', label=df_india.columns[4])\n",
    "plt.plot([], [], color='g', label=df_india.columns[3])\n",
    "\n",
    "plt.stackplot(df_india['Year'],\n",
    "              df_india[df_india.columns[7]],\n",
    "              df_india[df_india.columns[6]],\n",
    "              df_india[df_india.columns[5]],\n",
    "              df_india[df_india.columns[4]],\n",
    "              df_india[df_india.columns[3]],\n",
    "              colors=['r', 'b', 'y', 'k', 'g']\n",
    "             )\n",
    "\n",
    "plt.xlabel('years')\n",
    "plt.ylabel('population')\n",
    "plt.ticklabel_format(style='plain')\n",
    "plt.legend()\n",
    "plt.show()"
   ]
  },
  {
   "cell_type": "code",
   "execution_count": null,
   "id": "3b17433c-5495-4a6e-8bb4-aa90b4d10ffe",
   "metadata": {},
   "outputs": [],
   "source": [
    "import matplotlib.ticker as ticker\n",
    "\n",
    "plt.plot([], [], color='r', label=df_china.columns[7])\n",
    "plt.plot([], [], color='b', label=df_china.columns[6])\n",
    "plt.plot([], [], color='y', label=df_china.columns[5])\n",
    "plt.plot([], [], color='k', label=df_china.columns[4])\n",
    "plt.plot([], [], color='g', label=df_china.columns[3])\n",
    "\n",
    "plt.stackplot(df_china['Year'],\n",
    "              df_china[df_china.columns[7]],\n",
    "              df_china[df_china.columns[6]],\n",
    "              df_china[df_china.columns[5]],\n",
    "              df_china[df_china.columns[4]],\n",
    "              df_china[df_china.columns[3]],\n",
    "              colors=['r', 'b', 'y', 'k', 'g']\n",
    "             )\n",
    "\n",
    "plt.xlabel('years')\n",
    "plt.ylabel('population')\n",
    "plt.ticklabel_format(style='plain')\n",
    "plt.legend()\n",
    "plt.show()"
   ]
  },
  {
   "cell_type": "code",
   "execution_count": null,
   "id": "c025d046",
   "metadata": {},
   "outputs": [],
   "source": [
    "percent_china = df_china['above \\$10 a day'] / df_china['total'] * 100\n",
    "percent_china"
   ]
  },
  {
   "cell_type": "code",
   "execution_count": null,
   "id": "76313f6c",
   "metadata": {},
   "outputs": [],
   "source": [
    "percent_india = df_india['above \\$10 a day'] / df_india['total'] * 100\n",
    "percent_india"
   ]
  },
  {
   "cell_type": "code",
   "execution_count": 3,
   "id": "53dc0da9",
   "metadata": {},
   "outputs": [
    {
     "ename": "NameError",
     "evalue": "name 'plt' is not defined",
     "output_type": "error",
     "traceback": [
      "\u001b[1;31m---------------------------------------------------------------------------\u001b[0m",
      "\u001b[1;31mNameError\u001b[0m                                 Traceback (most recent call last)",
      "\u001b[1;32mc:\\Users\\kozak\\Documents\\KEAweb\\aai\\aai-miniproject-1\\notebook.ipynb Cell 12\u001b[0m in \u001b[0;36m<cell line: 1>\u001b[1;34m()\u001b[0m\n\u001b[1;32m----> <a href='vscode-notebook-cell:/c%3A/Users/kozak/Documents/KEAweb/aai/aai-miniproject-1/notebook.ipynb#X30sZmlsZQ%3D%3D?line=0'>1</a>\u001b[0m plt\u001b[39m.\u001b[39mplot(df_china[\u001b[39m'\u001b[39m\u001b[39mYear\u001b[39m\u001b[39m'\u001b[39m], percent_china, color\u001b[39m=\u001b[39m\u001b[39m'\u001b[39m\u001b[39mk\u001b[39m\u001b[39m'\u001b[39m, label\u001b[39m=\u001b[39m\u001b[39m'\u001b[39m\u001b[39mChina\u001b[39m\u001b[39m'\u001b[39m)\n\u001b[0;32m      <a href='vscode-notebook-cell:/c%3A/Users/kozak/Documents/KEAweb/aai/aai-miniproject-1/notebook.ipynb#X30sZmlsZQ%3D%3D?line=1'>2</a>\u001b[0m plt\u001b[39m.\u001b[39mplot(df_india[\u001b[39m'\u001b[39m\u001b[39mYear\u001b[39m\u001b[39m'\u001b[39m], percent_india, color\u001b[39m=\u001b[39m\u001b[39m'\u001b[39m\u001b[39mr\u001b[39m\u001b[39m'\u001b[39m, label\u001b[39m=\u001b[39m\u001b[39m'\u001b[39m\u001b[39mIndia\u001b[39m\u001b[39m'\u001b[39m)\n\u001b[0;32m      <a href='vscode-notebook-cell:/c%3A/Users/kozak/Documents/KEAweb/aai/aai-miniproject-1/notebook.ipynb#X30sZmlsZQ%3D%3D?line=2'>3</a>\u001b[0m plt\u001b[39m.\u001b[39mylim([\u001b[39m0\u001b[39m,\u001b[39m100\u001b[39m])\n",
      "\u001b[1;31mNameError\u001b[0m: name 'plt' is not defined"
     ]
    }
   ],
   "source": [
    "plt.plot(df_china['Year'], percent_china, color='k', label='China')\n",
    "plt.plot(df_india['Year'], percent_india, color='r', label='India')\n",
    "plt.ylim([0,100])"
   ]
  },
  {
   "cell_type": "code",
   "execution_count": null,
   "id": "e74125bb",
   "metadata": {},
   "outputs": [],
   "source": [
    "df_india\n",
    "indiaTotalRow87 = df_india.loc[df_india['Year'] == 1987]\n",
    "indiaTotalRow11 = df_india.loc[df_india['Year'] == 2011]\n",
    "indiaTotal11 = indiaTotalRow11['total']\n",
    "indiaTotal87 = indiaTotalRow87['total']\n",
    "diff = int(indiaTotal11) - int(indiaTotal87)\n",
    "indiaGrowth = ( diff / int(indiaTotal87) )* 100\n",
    "indiaGrowth"
   ]
  },
  {
   "cell_type": "code",
   "execution_count": null,
   "id": "5291fb25",
   "metadata": {},
   "outputs": [],
   "source": [
    "df_china\n",
    "chinaTotalRow87 = df_china.loc[df_china['Year'] == 1987]\n",
    "chinaTotalRow11 = df_china.loc[df_china['Year'] == 2011]\n",
    "chinaTotal11 = chinaTotalRow11['total']\n",
    "chinaTotal87 = chinaTotalRow87['total']\n",
    "diff = int(chinaTotal11) - int(chinaTotal87)\n",
    "chinaGrowth = ( diff / int(chinaTotal87) )* 100\n",
    "chinaGrowth\n",
    "\n"
   ]
  }
 ],
 "metadata": {
  "kernelspec": {
   "display_name": "Python 3.9.9 ('.venv': venv)",
   "language": "python",
   "name": "python3"
  },
  "language_info": {
   "codemirror_mode": {
    "name": "ipython",
    "version": 3
   },
   "file_extension": ".py",
   "mimetype": "text/x-python",
   "name": "python",
   "nbconvert_exporter": "python",
   "pygments_lexer": "ipython3",
   "version": "3.9.9"
  },
  "vscode": {
   "interpreter": {
    "hash": "34908a01f01df767923d4bd1b91ab826d602b70ad69bea6c8354bd17ad46ec4c"
   }
  }
 },
 "nbformat": 4,
 "nbformat_minor": 5
}
